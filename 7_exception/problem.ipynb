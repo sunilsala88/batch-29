{
 "cells": [
  {
   "cell_type": "code",
   "execution_count": null,
   "metadata": {},
   "outputs": [
    {
     "name": "stdout",
     "output_type": "stream",
     "text": [
      "['2', '3', '4', 'a', '6']\n"
     ]
    }
   ],
   "source": [
    "#/Users/algotrading2024/batch 29/data.txt\n",
    "with open('/Users/algotrading2024/batch 29/data.txt','r') as f1:\n",
    "    data=f1.read()\n",
    "data_list=data.split('\\n')\n",
    "print(data_list)\n"
   ]
  },
  {
   "cell_type": "code",
   "execution_count": 5,
   "metadata": {},
   "outputs": [],
   "source": [
    "with open('output.txt','w') as f1:\n",
    "    for num in data_list:\n",
    "        try:\n",
    "            s=int(num)**2\n",
    "        except:\n",
    "            s=0\n",
    "        f1.write(str(s)+'\\n')"
   ]
  }
 ],
 "metadata": {
  "kernelspec": {
   "display_name": "Python 3",
   "language": "python",
   "name": "python3"
  },
  "language_info": {
   "codemirror_mode": {
    "name": "ipython",
    "version": 3
   },
   "file_extension": ".py",
   "mimetype": "text/x-python",
   "name": "python",
   "nbconvert_exporter": "python",
   "pygments_lexer": "ipython3",
   "version": "3.12.2"
  }
 },
 "nbformat": 4,
 "nbformat_minor": 2
}
