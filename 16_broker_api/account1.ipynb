{
 "cells": [
  {
   "cell_type": "code",
   "execution_count": null,
   "metadata": {},
   "outputs": [
    {
     "data": {
      "text/plain": [
       "{   'account_blocked': False,\n",
       "    'account_number': 'PA32II6CTZQA',\n",
       "    'accrued_fees': '0',\n",
       "    'buying_power': '934136.44',\n",
       "    'cash': '58899.39',\n",
       "    'created_at': datetime.datetime(2024, 8, 24, 9, 13, 29, 133143, tzinfo=TzInfo(UTC)),\n",
       "    'crypto_status': <AccountStatus.ACTIVE: 'ACTIVE'>,\n",
       "    'currency': 'USD',\n",
       "    'daytrade_count': 70,\n",
       "    'daytrading_buying_power': '934136.44',\n",
       "    'equity': '1013715.61',\n",
       "    'id': UUID('28959f70-ced0-4150-a908-c1d2ef1a475a'),\n",
       "    'initial_margin': '12212369.55',\n",
       "    'last_equity': '1013271.9216875833',\n",
       "    'last_maintenance_margin': '0',\n",
       "    'long_market_value': '978520.6',\n",
       "    'maintenance_margin': '12175421.73',\n",
       "    'multiplier': '4',\n",
       "    'non_marginable_buying_power': '0',\n",
       "    'options_approved_level': 3,\n",
       "    'options_buying_power': '0',\n",
       "    'options_trading_level': 3,\n",
       "    'pattern_day_trader': True,\n",
       "    'pending_transfer_in': None,\n",
       "    'pending_transfer_out': None,\n",
       "    'portfolio_value': '1013715.61',\n",
       "    'regt_buying_power': '0',\n",
       "    'short_market_value': '-29700',\n",
       "    'shorting_enabled': True,\n",
       "    'sma': '0',\n",
       "    'status': <AccountStatus.ACTIVE: 'ACTIVE'>,\n",
       "    'trade_suspended_by_user': False,\n",
       "    'trading_blocked': False,\n",
       "    'transfers_blocked': False}"
      ]
     },
     "execution_count": 2,
     "metadata": {},
     "output_type": "execute_result"
    }
   ],
   "source": [
    "\n",
    "from alpaca.trading.client import TradingClient\n",
    "from credentials import api_key,secret_key\n",
    "trading_client = TradingClient(api_key, secret_key, paper=True)\n",
    "\n",
    "account = trading_client.get_account()\n",
    "account"
   ]
  },
  {
   "cell_type": "markdown",
   "metadata": {},
   "source": [
    "## cash"
   ]
  },
  {
   "cell_type": "code",
   "execution_count": 21,
   "metadata": {},
   "outputs": [
    {
     "name": "stdout",
     "output_type": "stream",
     "text": [
      "                                                             data\n",
      "account                                                          \n",
      "id                           28959f70-ced0-4150-a908-c1d2ef1a475a\n",
      "account_number                                       PA32II6CTZQA\n",
      "status                                       AccountStatus.ACTIVE\n",
      "crypto_status                                AccountStatus.ACTIVE\n",
      "currency                                                      USD\n",
      "buying_power                                            934136.44\n",
      "regt_buying_power                                               0\n",
      "daytrading_buying_power                                 934136.44\n",
      "non_marginable_buying_power                                     0\n",
      "cash                                                     58899.39\n",
      "accrued_fees                                                    0\n",
      "pending_transfer_out                                         None\n",
      "pending_transfer_in                                          None\n",
      "portfolio_value                                        1013715.61\n",
      "pattern_day_trader                                           True\n",
      "trading_blocked                                             False\n",
      "transfers_blocked                                           False\n",
      "account_blocked                                             False\n",
      "created_at                       2024-08-24 09:13:29.133143+00:00\n",
      "trade_suspended_by_user                                     False\n",
      "multiplier                                                      4\n",
      "shorting_enabled                                             True\n",
      "equity                                                 1013715.61\n",
      "last_equity                                    1013271.9216875833\n",
      "long_market_value                                        978520.6\n",
      "short_market_value                                         -29700\n",
      "initial_margin                                        12212369.55\n",
      "maintenance_margin                                    12175421.73\n",
      "last_maintenance_margin                                         0\n",
      "sma                                                             0\n",
      "daytrade_count                                                 70\n",
      "options_buying_power                                            0\n",
      "options_approved_level                                          3\n",
      "options_trading_level                                           3\n"
     ]
    }
   ],
   "source": [
    "import pandas as pd\n",
    "df=pd.DataFrame(account,columns=['account','data'])\n",
    "df=df.set_index('account')\n",
    "print(df)"
   ]
  },
  {
   "cell_type": "markdown",
   "metadata": {},
   "source": [
    "## position"
   ]
  },
  {
   "cell_type": "code",
   "execution_count": 39,
   "metadata": {},
   "outputs": [],
   "source": [
    "pos=trading_client.get_all_positions()\n",
    "pos_list=[]\n",
    "for p in pos:\n",
    "    pos_list.append(dict(p))\n",
    "df=pd.DataFrame(pos_list)\n",
    "df.to_csv('positions.csv')"
   ]
  },
  {
   "cell_type": "markdown",
   "metadata": {},
   "source": [
    "## orders"
   ]
  },
  {
   "cell_type": "code",
   "execution_count": 54,
   "metadata": {},
   "outputs": [
    {
     "data": {
      "text/html": [
       "<div>\n",
       "<style scoped>\n",
       "    .dataframe tbody tr th:only-of-type {\n",
       "        vertical-align: middle;\n",
       "    }\n",
       "\n",
       "    .dataframe tbody tr th {\n",
       "        vertical-align: top;\n",
       "    }\n",
       "\n",
       "    .dataframe thead th {\n",
       "        text-align: right;\n",
       "    }\n",
       "</style>\n",
       "<table border=\"1\" class=\"dataframe\">\n",
       "  <thead>\n",
       "    <tr style=\"text-align: right;\">\n",
       "      <th></th>\n",
       "    </tr>\n",
       "  </thead>\n",
       "  <tbody>\n",
       "  </tbody>\n",
       "</table>\n",
       "</div>"
      ],
      "text/plain": [
       "Empty DataFrame\n",
       "Columns: []\n",
       "Index: []"
      ]
     },
     "execution_count": 54,
     "metadata": {},
     "output_type": "execute_result"
    }
   ],
   "source": [
    "ord=trading_client.get_orders()\n",
    "ord_list=[]\n",
    "for p in ord:\n",
    "    ord_list.append(dict(p))\n",
    "df=pd.DataFrame(ord_list)\n",
    "df.to_csv('orders.csv')\n",
    "df"
   ]
  },
  {
   "cell_type": "markdown",
   "metadata": {},
   "source": [
    "## cancel order"
   ]
  },
  {
   "cell_type": "code",
   "execution_count": 42,
   "metadata": {},
   "outputs": [],
   "source": [
    "trading_client.cancel_order_by_id('795335c6-c0b0-459f-9992-2c379c83c71c')"
   ]
  },
  {
   "cell_type": "markdown",
   "metadata": {},
   "source": [
    "## close position"
   ]
  },
  {
   "cell_type": "code",
   "execution_count": 43,
   "metadata": {},
   "outputs": [],
   "source": [
    "t=trading_client.close_position('ETHUSD')"
   ]
  },
  {
   "cell_type": "code",
   "execution_count": null,
   "metadata": {},
   "outputs": [
    {
     "data": {
      "text/plain": [
       "id                  38df2d6b-482b-4e7f-a311-07aba76d584d\n",
       "client_order_id     e8874a0c-c0d7-44aa-8a30-016bc9d5ee76\n",
       "created_at              2025-02-15 10:08:10.855843+00:00\n",
       "updated_at              2025-02-15 10:08:10.858669+00:00\n",
       "submitted_at            2025-02-15 10:08:10.855843+00:00\n",
       "filled_at                                           None\n",
       "expired_at                                          None\n",
       "expires_at                     2025-05-15 20:00:00+00:00\n",
       "canceled_at                                         None\n",
       "failed_at                                           None\n",
       "replaced_at                                         None\n",
       "replaced_by                                         None\n",
       "replaces                                            None\n",
       "asset_id            a1733398-6acc-4e92-af24-0d0667f78713\n",
       "symbol                                           ETH/USD\n",
       "asset_class                            AssetClass.CRYPTO\n",
       "notional                                            None\n",
       "qty                                               0.9975\n",
       "filled_qty                                             0\n",
       "filled_avg_price                                    None\n",
       "order_class                            OrderClass.SIMPLE\n",
       "order_type                              OrderType.MARKET\n",
       "type                                    OrderType.MARKET\n",
       "side                                      OrderSide.SELL\n",
       "time_in_force                            TimeInForce.GTC\n",
       "limit_price                                         None\n",
       "stop_price                                          None\n",
       "status                           OrderStatus.PENDING_NEW\n",
       "extended_hours                                     False\n",
       "legs                                                None\n",
       "trail_percent                                       None\n",
       "trail_price                                         None\n",
       "hwm                                                 None\n",
       "position_intent             PositionIntent.SELL_TO_CLOSE\n",
       "ratio_qty                                           None\n",
       "dtype: object"
      ]
     },
     "execution_count": 46,
     "metadata": {},
     "output_type": "execute_result"
    }
   ],
   "source": [
    "pd.Series(dict(t))"
   ]
  },
  {
   "cell_type": "markdown",
   "metadata": {},
   "source": [
    "## cancel order by instrument name"
   ]
  },
  {
   "cell_type": "code",
   "execution_count": 53,
   "metadata": {},
   "outputs": [
    {
     "name": "stdout",
     "output_type": "stream",
     "text": [
      "1d650af8-06d8-4393-bd93-5ca11dcd1869\n",
      "None\n"
     ]
    }
   ],
   "source": [
    "name='NVDA'\n",
    "for i in trading_client.get_orders():\n",
    "    if i.symbol==name:\n",
    "        id1=i.id\n",
    "        print(id1)\n",
    "        t=trading_client.cancel_order_by_id(id1)\n",
    "        print(t)\n",
    "    else:\n",
    "        print('no order exist')"
   ]
  }
 ],
 "metadata": {
  "kernelspec": {
   "display_name": ".venv",
   "language": "python",
   "name": "python3"
  },
  "language_info": {
   "codemirror_mode": {
    "name": "ipython",
    "version": 3
   },
   "file_extension": ".py",
   "mimetype": "text/x-python",
   "name": "python",
   "nbconvert_exporter": "python",
   "pygments_lexer": "ipython3",
   "version": "3.12.8"
  }
 },
 "nbformat": 4,
 "nbformat_minor": 2
}
