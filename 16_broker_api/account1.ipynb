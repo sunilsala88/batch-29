{
 "cells": [
  {
   "cell_type": "code",
   "execution_count": null,
   "metadata": {},
   "outputs": [
    {
     "data": {
      "text/plain": [
       "{   'account_blocked': False,\n",
       "    'account_number': 'PA32II6CTZQA',\n",
       "    'accrued_fees': '0',\n",
       "    'buying_power': '934136.44',\n",
       "    'cash': '58899.39',\n",
       "    'created_at': datetime.datetime(2024, 8, 24, 9, 13, 29, 133143, tzinfo=TzInfo(UTC)),\n",
       "    'crypto_status': <AccountStatus.ACTIVE: 'ACTIVE'>,\n",
       "    'currency': 'USD',\n",
       "    'daytrade_count': 70,\n",
       "    'daytrading_buying_power': '934136.44',\n",
       "    'equity': '1013715.61',\n",
       "    'id': UUID('28959f70-ced0-4150-a908-c1d2ef1a475a'),\n",
       "    'initial_margin': '12212369.55',\n",
       "    'last_equity': '1013271.9216875833',\n",
       "    'last_maintenance_margin': '0',\n",
       "    'long_market_value': '978520.6',\n",
       "    'maintenance_margin': '12175421.73',\n",
       "    'multiplier': '4',\n",
       "    'non_marginable_buying_power': '0',\n",
       "    'options_approved_level': 3,\n",
       "    'options_buying_power': '0',\n",
       "    'options_trading_level': 3,\n",
       "    'pattern_day_trader': True,\n",
       "    'pending_transfer_in': None,\n",
       "    'pending_transfer_out': None,\n",
       "    'portfolio_value': '1013715.61',\n",
       "    'regt_buying_power': '0',\n",
       "    'short_market_value': '-29700',\n",
       "    'shorting_enabled': True,\n",
       "    'sma': '0',\n",
       "    'status': <AccountStatus.ACTIVE: 'ACTIVE'>,\n",
       "    'trade_suspended_by_user': False,\n",
       "    'trading_blocked': False,\n",
       "    'transfers_blocked': False}"
      ]
     },
     "execution_count": 2,
     "metadata": {},
     "output_type": "execute_result"
    }
   ],
   "source": [
    "\n",
    "from alpaca.trading.client import TradingClient\n",
    "from credentials import api_key,secret_key\n",
    "trading_client = TradingClient(api_key, secret_key, paper=True)\n",
    "\n",
    "account = trading_client.get_account()\n",
    "account"
   ]
  },
  {
   "cell_type": "code",
   "execution_count": 21,
   "metadata": {},
   "outputs": [
    {
     "name": "stdout",
     "output_type": "stream",
     "text": [
      "                                                             data\n",
      "account                                                          \n",
      "id                           28959f70-ced0-4150-a908-c1d2ef1a475a\n",
      "account_number                                       PA32II6CTZQA\n",
      "status                                       AccountStatus.ACTIVE\n",
      "crypto_status                                AccountStatus.ACTIVE\n",
      "currency                                                      USD\n",
      "buying_power                                            934136.44\n",
      "regt_buying_power                                               0\n",
      "daytrading_buying_power                                 934136.44\n",
      "non_marginable_buying_power                                     0\n",
      "cash                                                     58899.39\n",
      "accrued_fees                                                    0\n",
      "pending_transfer_out                                         None\n",
      "pending_transfer_in                                          None\n",
      "portfolio_value                                        1013715.61\n",
      "pattern_day_trader                                           True\n",
      "trading_blocked                                             False\n",
      "transfers_blocked                                           False\n",
      "account_blocked                                             False\n",
      "created_at                       2024-08-24 09:13:29.133143+00:00\n",
      "trade_suspended_by_user                                     False\n",
      "multiplier                                                      4\n",
      "shorting_enabled                                             True\n",
      "equity                                                 1013715.61\n",
      "last_equity                                    1013271.9216875833\n",
      "long_market_value                                        978520.6\n",
      "short_market_value                                         -29700\n",
      "initial_margin                                        12212369.55\n",
      "maintenance_margin                                    12175421.73\n",
      "last_maintenance_margin                                         0\n",
      "sma                                                             0\n",
      "daytrade_count                                                 70\n",
      "options_buying_power                                            0\n",
      "options_approved_level                                          3\n",
      "options_trading_level                                           3\n"
     ]
    }
   ],
   "source": [
    "import pandas as pd\n",
    "df=pd.DataFrame(account,columns=['account','data'])\n",
    "df=df.set_index('account')\n",
    "print(df)"
   ]
  },
  {
   "cell_type": "code",
   "execution_count": 29,
   "metadata": {},
   "outputs": [],
   "source": [
    "pos=trading_client.get_all_positions()\n",
    "pos_list=[]\n",
    "for p in pos:\n",
    "    pos_list.append(dict(p))\n",
    "df=pd.DataFrame(pos_list)\n",
    "df.to_csv('positions.csv')"
   ]
  }
 ],
 "metadata": {
  "kernelspec": {
   "display_name": ".venv",
   "language": "python",
   "name": "python3"
  },
  "language_info": {
   "codemirror_mode": {
    "name": "ipython",
    "version": 3
   },
   "file_extension": ".py",
   "mimetype": "text/x-python",
   "name": "python",
   "nbconvert_exporter": "python",
   "pygments_lexer": "ipython3",
   "version": "3.12.8"
  }
 },
 "nbformat": 4,
 "nbformat_minor": 2
}
