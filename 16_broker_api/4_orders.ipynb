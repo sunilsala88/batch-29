{
 "cells": [
  {
   "cell_type": "code",
   "execution_count": null,
   "metadata": {},
   "outputs": [],
   "source": [
    "\n",
    "from alpaca.trading.client import TradingClient\n",
    "from credentials import api_key,secret_key\n",
    "trading_client = TradingClient(api_key, secret_key, paper=True)"
   ]
  },
  {
   "cell_type": "markdown",
   "metadata": {},
   "source": [
    "## orders for stocks"
   ]
  },
  {
   "cell_type": "code",
   "execution_count": 7,
   "metadata": {},
   "outputs": [
    {
     "data": {
      "text/plain": [
       "{   'asset_class': <AssetClass.US_EQUITY: 'us_equity'>,\n",
       "    'asset_id': UUID('8ccae427-5dd0-45b3-b5fe-7ba5e422c766'),\n",
       "    'canceled_at': None,\n",
       "    'client_order_id': '0cfbcfca-bd4f-4dca-9ed7-21fc16000e17',\n",
       "    'created_at': datetime.datetime(2025, 2, 23, 9, 52, 58, 43509, tzinfo=TzInfo(UTC)),\n",
       "    'expired_at': None,\n",
       "    'expires_at': datetime.datetime(2025, 5, 23, 20, 0, tzinfo=TzInfo(UTC)),\n",
       "    'extended_hours': False,\n",
       "    'failed_at': None,\n",
       "    'filled_at': None,\n",
       "    'filled_avg_price': None,\n",
       "    'filled_qty': '0',\n",
       "    'hwm': None,\n",
       "    'id': UUID('b3b1a0fa-9713-4088-afe9-3be7b6943854'),\n",
       "    'legs': None,\n",
       "    'limit_price': None,\n",
       "    'notional': None,\n",
       "    'order_class': <OrderClass.SIMPLE: 'simple'>,\n",
       "    'order_type': <OrderType.MARKET: 'market'>,\n",
       "    'position_intent': <PositionIntent.SELL_TO_OPEN: 'sell_to_open'>,\n",
       "    'qty': '1',\n",
       "    'ratio_qty': None,\n",
       "    'replaced_at': None,\n",
       "    'replaced_by': None,\n",
       "    'replaces': None,\n",
       "    'side': <OrderSide.SELL: 'sell'>,\n",
       "    'status': <OrderStatus.ACCEPTED: 'accepted'>,\n",
       "    'stop_price': None,\n",
       "    'submitted_at': datetime.datetime(2025, 2, 23, 9, 52, 58, 43509, tzinfo=TzInfo(UTC)),\n",
       "    'symbol': 'TSLA',\n",
       "    'time_in_force': <TimeInForce.GTC: 'gtc'>,\n",
       "    'trail_percent': None,\n",
       "    'trail_price': None,\n",
       "    'type': <OrderType.MARKET: 'market'>,\n",
       "    'updated_at': datetime.datetime(2025, 2, 23, 9, 52, 58, 44851, tzinfo=TzInfo(UTC))}"
      ]
     },
     "execution_count": 7,
     "metadata": {},
     "output_type": "execute_result"
    }
   ],
   "source": [
    "\n",
    "from alpaca.trading.requests import MarketOrderRequest\n",
    "from alpaca.trading.enums import OrderSide, TimeInForce\n",
    "# preparing orders\n",
    "symbol='TSLA'\n",
    "market_order_data = MarketOrderRequest(\n",
    "                    symbol=symbol,\n",
    "                    qty=1,\n",
    "                    side=OrderSide.SELL,\n",
    "                    time_in_force=TimeInForce.GTC\n",
    "                    )\n",
    "\n",
    "# Market order\n",
    "market_order = trading_client.submit_order(\n",
    "                order_data=market_order_data\n",
    "               )\n",
    "market_order"
   ]
  },
  {
   "cell_type": "code",
   "execution_count": null,
   "metadata": {},
   "outputs": [],
   "source": []
  },
  {
   "cell_type": "markdown",
   "metadata": {},
   "source": [
    "## placing order for crypto"
   ]
  },
  {
   "cell_type": "code",
   "execution_count": null,
   "metadata": {},
   "outputs": [],
   "source": [
    "from alpaca.trading.enums import OrderType\n",
    "symbol='ETH/USD'\n",
    "# simple, market order\n",
    "# you can specify:\n",
    "# or notional value (e.g. 100 USD) (which is in the next example)\n",
    "req = MarketOrderRequest(\n",
    "    symbol = symbol,\n",
    "    qty = 1,\n",
    "    side = OrderSide.BUY,\n",
    "    type = OrderType.MARKET,\n",
    "    time_in_force = TimeInForce.GTC,\n",
    ")\n",
    "res = trading_client.submit_order(req)\n",
    "res"
   ]
  }
 ],
 "metadata": {
  "kernelspec": {
   "display_name": ".venv",
   "language": "python",
   "name": "python3"
  },
  "language_info": {
   "codemirror_mode": {
    "name": "ipython",
    "version": 3
   },
   "file_extension": ".py",
   "mimetype": "text/x-python",
   "name": "python",
   "nbconvert_exporter": "python",
   "pygments_lexer": "ipython3",
   "version": "3.12.8"
  }
 },
 "nbformat": 4,
 "nbformat_minor": 2
}
