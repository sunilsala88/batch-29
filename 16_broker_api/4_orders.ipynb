{
 "cells": [
  {
   "cell_type": "code",
   "execution_count": null,
   "metadata": {},
   "outputs": [],
   "source": [
    "\n",
    "from alpaca.trading.client import TradingClient\n",
    "from credentials import api_key,secret_key\n",
    "trading_client = TradingClient(api_key, secret_key, paper=True)"
   ]
  },
  {
   "cell_type": "markdown",
   "metadata": {},
   "source": [
    "## orders for stocks"
   ]
  },
  {
   "cell_type": "markdown",
   "metadata": {},
   "source": [
    "### market order"
   ]
  },
  {
   "cell_type": "code",
   "execution_count": null,
   "metadata": {},
   "outputs": [],
   "source": [
    "\n",
    "from alpaca.trading.requests import MarketOrderRequest\n",
    "from alpaca.trading.enums import OrderSide, TimeInForce\n",
    "# preparing orders\n",
    "symbol='TSLA'\n",
    "market_order_data = MarketOrderRequest(\n",
    "                    symbol=symbol,\n",
    "                    qty=1,\n",
    "                    side=OrderSide.SELL,\n",
    "                    time_in_force=TimeInForce.DAY\n",
    "                    )\n",
    "\n",
    "# Market order\n",
    "market_order = trading_client.submit_order(\n",
    "                order_data=market_order_data\n",
    "               )\n",
    "market_order"
   ]
  },
  {
   "cell_type": "markdown",
   "metadata": {},
   "source": [
    "### limit order"
   ]
  },
  {
   "cell_type": "code",
   "execution_count": null,
   "metadata": {},
   "outputs": [],
   "source": [
    "from alpaca.trading.requests import LimitOrderRequest\n",
    "symbol=\"NVDA\"\n",
    "\n",
    "limit_order_data = LimitOrderRequest(\n",
    "                    symbol=symbol,\n",
    "                    limit_price=165,\n",
    "                    qty=1,\n",
    "                    side=OrderSide.SELL,\n",
    "                    time_in_force=TimeInForce.GTC\n",
    "                   )\n",
    "\n",
    "# Limit order\n",
    "limit_order = trading_client.submit_order(\n",
    "                order_data=limit_order_data\n",
    "              )\n",
    "limit_order"
   ]
  },
  {
   "cell_type": "markdown",
   "metadata": {},
   "source": [
    "# stop market order"
   ]
  },
  {
   "cell_type": "code",
   "execution_count": null,
   "metadata": {},
   "outputs": [],
   "source": [
    "\n",
    "from alpaca.trading.requests import StopOrderRequest\n",
    "\n",
    "stop_order_data=StopOrderRequest(\n",
    "                    symbol=\"AMZN\",\n",
    "                    stop_price=230,\n",
    "                    qty=1,\n",
    "                    side=OrderSide.SELL,\n",
    "                    time_in_force=TimeInForce.GTC\n",
    ")\n",
    "\n",
    "stop_market_order = trading_client.submit_order(\n",
    "                order_data=stop_order_data\n",
    "              )\n",
    "stop_market_order"
   ]
  },
  {
   "cell_type": "markdown",
   "metadata": {},
   "source": [
    "### stop limit order"
   ]
  },
  {
   "cell_type": "code",
   "execution_count": null,
   "metadata": {},
   "outputs": [],
   "source": [
    "\n",
    "from alpaca.trading.requests import StopLimitOrderRequest\n",
    "stop_limit_order_data=StopLimitOrderRequest(\n",
    "                    symbol=\"NVDA\",\n",
    "                    stop_price=210,\n",
    "                    limit_price=210,\n",
    "                    qty=1,\n",
    "                    side=OrderSide.SELL,\n",
    "                    time_in_force=TimeInForce.DAY   \n",
    ")\n",
    "\n",
    "stop_limit_order = trading_client.submit_order(\n",
    "                order_data=stop_limit_order_data\n",
    "              )\n",
    "stop_limit_order"
   ]
  },
  {
   "cell_type": "markdown",
   "metadata": {},
   "source": [
    "## placing order for crypto"
   ]
  },
  {
   "cell_type": "code",
   "execution_count": 9,
   "metadata": {},
   "outputs": [
    {
     "data": {
      "text/plain": [
       "{   'asset_class': <AssetClass.CRYPTO: 'crypto'>,\n",
       "    'asset_id': UUID('a1733398-6acc-4e92-af24-0d0667f78713'),\n",
       "    'canceled_at': None,\n",
       "    'client_order_id': '8ad08a3f-5e11-4310-8eca-cb721f361a19',\n",
       "    'created_at': datetime.datetime(2025, 3, 2, 9, 20, 0, 431770, tzinfo=TzInfo(UTC)),\n",
       "    'expired_at': None,\n",
       "    'expires_at': datetime.datetime(2025, 5, 29, 20, 0, tzinfo=TzInfo(UTC)),\n",
       "    'extended_hours': False,\n",
       "    'failed_at': None,\n",
       "    'filled_at': None,\n",
       "    'filled_avg_price': None,\n",
       "    'filled_qty': '0',\n",
       "    'hwm': None,\n",
       "    'id': UUID('4e0a0c60-3646-4842-a77d-790af82039a4'),\n",
       "    'legs': None,\n",
       "    'limit_price': None,\n",
       "    'notional': None,\n",
       "    'order_class': <OrderClass.SIMPLE: 'simple'>,\n",
       "    'order_type': <OrderType.MARKET: 'market'>,\n",
       "    'position_intent': <PositionIntent.BUY_TO_OPEN: 'buy_to_open'>,\n",
       "    'qty': '1',\n",
       "    'ratio_qty': None,\n",
       "    'replaced_at': None,\n",
       "    'replaced_by': None,\n",
       "    'replaces': None,\n",
       "    'side': <OrderSide.BUY: 'buy'>,\n",
       "    'status': <OrderStatus.PENDING_NEW: 'pending_new'>,\n",
       "    'stop_price': None,\n",
       "    'submitted_at': datetime.datetime(2025, 3, 2, 9, 20, 0, 431770, tzinfo=TzInfo(UTC)),\n",
       "    'symbol': 'ETH/USD',\n",
       "    'time_in_force': <TimeInForce.GTC: 'gtc'>,\n",
       "    'trail_percent': None,\n",
       "    'trail_price': None,\n",
       "    'type': <OrderType.MARKET: 'market'>,\n",
       "    'updated_at': datetime.datetime(2025, 3, 2, 9, 20, 0, 433785, tzinfo=TzInfo(UTC))}"
      ]
     },
     "execution_count": 9,
     "metadata": {},
     "output_type": "execute_result"
    }
   ],
   "source": [
    "from alpaca.trading.enums import OrderType\n",
    "from alpaca.trading.requests import MarketOrderRequest\n",
    "from alpaca.trading.enums import OrderSide, TimeInForce\n",
    "symbol='ETH/USD'\n",
    "# simple, market order\n",
    "# you can specify:\n",
    "# or notional value (e.g. 100 USD) (which is in the next example)\n",
    "req = MarketOrderRequest(\n",
    "    symbol = symbol,\n",
    "    qty = 1,\n",
    "    side = OrderSide.BUY,\n",
    "    type = OrderType.MARKET,\n",
    "    time_in_force = TimeInForce.GTC,\n",
    ")\n",
    "res = trading_client.submit_order(req)\n",
    "res"
   ]
  },
  {
   "cell_type": "markdown",
   "metadata": {},
   "source": [
    "# limit order"
   ]
  },
  {
   "cell_type": "code",
   "execution_count": 8,
   "metadata": {},
   "outputs": [
    {
     "data": {
      "text/plain": [
       "{   'asset_class': <AssetClass.CRYPTO: 'crypto'>,\n",
       "    'asset_id': UUID('8588af33-3a8e-4a09-bb6c-ba4226dc7aff'),\n",
       "    'canceled_at': None,\n",
       "    'client_order_id': '3d56ba0e-d18f-4ee8-8b0a-2555d3ee9224',\n",
       "    'created_at': datetime.datetime(2025, 3, 2, 9, 19, 48, 670310, tzinfo=TzInfo(UTC)),\n",
       "    'expired_at': None,\n",
       "    'expires_at': datetime.datetime(2025, 5, 29, 20, 0, tzinfo=TzInfo(UTC)),\n",
       "    'extended_hours': False,\n",
       "    'failed_at': None,\n",
       "    'filled_at': None,\n",
       "    'filled_avg_price': None,\n",
       "    'filled_qty': '0',\n",
       "    'hwm': None,\n",
       "    'id': UUID('5d384b2c-3a2b-4eef-85c9-7aa96d63c0f5'),\n",
       "    'legs': None,\n",
       "    'limit_price': '150',\n",
       "    'notional': None,\n",
       "    'order_class': <OrderClass.SIMPLE: 'simple'>,\n",
       "    'order_type': <OrderType.LIMIT: 'limit'>,\n",
       "    'position_intent': <PositionIntent.BUY_TO_OPEN: 'buy_to_open'>,\n",
       "    'qty': '1',\n",
       "    'ratio_qty': None,\n",
       "    'replaced_at': None,\n",
       "    'replaced_by': None,\n",
       "    'replaces': None,\n",
       "    'side': <OrderSide.BUY: 'buy'>,\n",
       "    'status': <OrderStatus.PENDING_NEW: 'pending_new'>,\n",
       "    'stop_price': None,\n",
       "    'submitted_at': datetime.datetime(2025, 3, 2, 9, 19, 48, 670310, tzinfo=TzInfo(UTC)),\n",
       "    'symbol': 'AAVE/USD',\n",
       "    'time_in_force': <TimeInForce.GTC: 'gtc'>,\n",
       "    'trail_percent': None,\n",
       "    'trail_price': None,\n",
       "    'type': <OrderType.LIMIT: 'limit'>,\n",
       "    'updated_at': datetime.datetime(2025, 3, 2, 9, 19, 48, 671999, tzinfo=TzInfo(UTC))}"
      ]
     },
     "execution_count": 8,
     "metadata": {},
     "output_type": "execute_result"
    }
   ],
   "source": [
    "from alpaca.trading.requests import LimitOrderRequest\n",
    "# simple, limit order\n",
    "symbol='AAVE/USD'\n",
    "req = LimitOrderRequest(\n",
    "    symbol = symbol,\n",
    "    qty = 1,\n",
    "    limit_price = 150,\n",
    "    side = OrderSide.BUY,\n",
    "    type = OrderType.LIMIT,\n",
    "    time_in_force = TimeInForce.GTC,\n",
    ")\n",
    "res = trading_client.submit_order(req)\n",
    "res"
   ]
  },
  {
   "cell_type": "markdown",
   "metadata": {},
   "source": [
    "### stop limit order"
   ]
  },
  {
   "cell_type": "code",
   "execution_count": null,
   "metadata": {},
   "outputs": [],
   "source": [
    "# stop limit order\n",
    "#fractional orders must be DAY orders\n",
    "req = StopLimitOrderRequest(\n",
    "                    symbol = 'AAVE/USD',\n",
    "                    qty = 0.998,\n",
    "                    side = OrderSide.SELL,\n",
    "                    time_in_force = TimeInForce.GTC,\n",
    "                    limit_price = 241,\n",
    "                    stop_price = 240\n",
    "                    )\n",
    "\n",
    "res = trading_client.submit_order(req)\n",
    "res"
   ]
  },
  {
   "cell_type": "markdown",
   "metadata": {},
   "source": [
    "# modify order"
   ]
  },
  {
   "cell_type": "code",
   "execution_count": null,
   "metadata": {},
   "outputs": [],
   "source": [
    "trading_client.submit_order()"
   ]
  },
  {
   "cell_type": "markdown",
   "metadata": {},
   "source": [
    "# order book"
   ]
  },
  {
   "cell_type": "code",
   "execution_count": null,
   "metadata": {},
   "outputs": [],
   "source": [
    "import pandas as pd\n",
    "def get_all_open_orders():\n",
    "    # params to filter orders by\n",
    "    request_params = GetOrdersRequest(\n",
    "                        status=QueryOrderStatus.OPEN\n",
    "                    )\n",
    "\n",
    "    # orders that satisfy params\n",
    "    orders = trading_client.get_orders(filter=request_params)\n",
    "    new_order=[]\n",
    "    for elem in orders:\n",
    "        new_order.append(dict(elem))\n",
    "\n",
    "    order_df=pd.DataFrame(new_order)\n",
    "    return order_df\n",
    "\n",
    "def get_all_position():\n",
    "\n",
    "    pos=trading_client.get_all_positions()\n",
    "\n",
    "\n",
    "    new_pos=[]\n",
    "    for elem in pos:\n",
    "        new_pos.append(dict(elem))\n",
    "\n",
    "    pos_df=pd.DataFrame(new_pos)\n",
    "    # pos_df.to_csv('pos.csv')\n",
    "    #filter pos that are in list_of_tickers\n",
    "    # l=[i.replace(\"/\",\"\") for i in list_of_tickers]\n",
    "    # pos_df=pos_df[pos_df['symbol'].str.replace('/','').isin(l)]\n",
    "    return pos_df\n",
    "\n",
    "pos_df=get_all_position()\n",
    "pos_df\n"
   ]
  },
  {
   "cell_type": "code",
   "execution_count": null,
   "metadata": {},
   "outputs": [],
   "source": [
    "import pandas as pd\n",
    "from alpaca.trading.enums import OrderSide, QueryOrderStatus,TimeInForce\n",
    "from alpaca.trading.requests import GetOrdersRequest,MarketOrderRequest\n",
    "def get_all_open_orders():\n",
    "    # params to filter orders by\n",
    "    request_params = GetOrdersRequest(\n",
    "                        status=QueryOrderStatus.OPEN\n",
    "                    )\n",
    "\n",
    "    # orders that satisfy params\n",
    "    orders = trading_client.get_orders(filter=request_params)\n",
    "    new_order=[]\n",
    "    for elem in orders:\n",
    "        new_order.append(dict(elem))\n",
    "\n",
    "    order_df=pd.DataFrame(new_order)\n",
    "    return order_df\n",
    "\n",
    "ord_df=get_all_open_orders()\n",
    "ord_df"
   ]
  },
  {
   "cell_type": "code",
   "execution_count": null,
   "metadata": {},
   "outputs": [],
   "source": [
    "from alpaca.trading.requests import LimitOrderRequest\n",
    "symbol=\"NVDA\"\n",
    "\n",
    "limit_order_data = LimitOrderRequest(\n",
    "                    symbol=symbol,\n",
    "                    limit_price=165,\n",
    "                    qty=1,\n",
    "                    side=OrderSide.SELL,\n",
    "                    time_in_force=TimeInForce.GTC\n",
    "                   )\n",
    "\n",
    "# Limit order\n",
    "limit_order = trading_client.submit_order(\n",
    "                order_data=limit_order_data\n",
    "              )\n",
    "limit_order"
   ]
  },
  {
   "cell_type": "code",
   "execution_count": null,
   "metadata": {},
   "outputs": [],
   "source": [
    "limit_order_data = LimitOrderRequest(\n",
    "                    symbol=symbol,\n",
    "                    limit_price=166,\n",
    "                    qty=1,\n",
    "                    side=OrderSide.SELL,\n",
    "                    time_in_force=TimeInForce.GTC\n",
    "                   )\n",
    "a=trading_client.replace_order_by_id(limit_order.id,limit_order_data)"
   ]
  },
  {
   "cell_type": "code",
   "execution_count": null,
   "metadata": {},
   "outputs": [],
   "source": []
  }
 ],
 "metadata": {
  "kernelspec": {
   "display_name": ".venv",
   "language": "python",
   "name": "python3"
  },
  "language_info": {
   "codemirror_mode": {
    "name": "ipython",
    "version": 3
   },
   "file_extension": ".py",
   "mimetype": "text/x-python",
   "name": "python",
   "nbconvert_exporter": "python",
   "pygments_lexer": "ipython3",
   "version": "3.12.8"
  }
 },
 "nbformat": 4,
 "nbformat_minor": 2
}
