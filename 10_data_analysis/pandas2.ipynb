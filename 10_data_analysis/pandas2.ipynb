{
  "cells": [
    {
      "cell_type": "code",
      "execution_count": 1,
      "metadata": {
        "id": "Q7nHX0p4khDD"
      },
      "outputs": [],
      "source": [
        "import pandas as pd"
      ]
    },
    {
      "cell_type": "code",
      "execution_count": null,
      "metadata": {
        "id": "JZydJEoYkhDL",
        "outputId": "14fd70a4-f21e-43d3-c4d8-b36798cb5edd"
      },
      "outputs": [],
      "source": [
        "company = pd.read_csv('Unicorn_companies.csv')\n",
        "company"
      ]
    },
    {
      "cell_type": "code",
      "execution_count": null,
      "metadata": {
        "id": "tzy-0VOtkhDR",
        "outputId": "5f0d4e0b-ec40-412a-c304-b3b5ab09b30b"
      },
      "outputs": [],
      "source": [
        "company.columns"
      ]
    },
    {
      "cell_type": "code",
      "execution_count": null,
      "metadata": {
        "id": "GCYP1U2JkhDS",
        "outputId": "07bc8496-aca9-4c41-95ca-de01abeaac0c"
      },
      "outputs": [],
      "source": [
        "company.index"
      ]
    },
    {
      "cell_type": "code",
      "execution_count": null,
      "metadata": {
        "id": "1xMojUe0khDT",
        "outputId": "16194336-671a-4228-9525-c5cdecf3a77e"
      },
      "outputs": [],
      "source": [
        "company_ind = company.set_index(\"Company\") \n",
        "company_ind"
      ]
    },
    {
      "cell_type": "code",
      "execution_count": null,
      "metadata": {},
      "outputs": [],
      "source": [
        "company.set_index(\"City\") "
      ]
    },
    {
      "cell_type": "code",
      "execution_count": null,
      "metadata": {
        "id": "WOkxfZqwkhDV",
        "outputId": "42030c5b-498b-4454-beb0-3ab914c01205"
      },
      "outputs": [],
      "source": [
        "company_ind.reset_index()"
      ]
    },
    {
      "cell_type": "code",
      "execution_count": null,
      "metadata": {
        "id": "KUT1BhQWkhDW",
        "outputId": "ef1e29b3-8e91-4b27-b513-4a01c3202106"
      },
      "outputs": [],
      "source": [
        "company_ind.reset_index(drop=True)"
      ]
    },
    {
      "cell_type": "code",
      "execution_count": null,
      "metadata": {},
      "outputs": [],
      "source": [
        "company"
      ]
    },
    {
      "cell_type": "code",
      "execution_count": null,
      "metadata": {},
      "outputs": [],
      "source": [
        "company[['Continent']][1072]"
      ]
    },
    {
      "cell_type": "code",
      "execution_count": null,
      "metadata": {
        "id": "Y2OXUFL8khDX",
        "outputId": "cd5395c9-87be-4be1-a50e-e62288a9ed4e"
      },
      "outputs": [],
      "source": [
        "company[company[\"Company\"].isin([\"SpaceX\",\"SHEIN\"])]"
      ]
    },
    {
      "cell_type": "code",
      "execution_count": null,
      "metadata": {},
      "outputs": [],
      "source": [
        "company_ind"
      ]
    },
    {
      "cell_type": "code",
      "execution_count": null,
      "metadata": {
        "id": "TDgvWvf1khDY",
        "outputId": "448db8fc-2120-4f01-bca9-cc7ce60166f2"
      },
      "outputs": [],
      "source": [
        "company_ind.loc['Bytedance': \"Stripe\"]"
      ]
    },
    {
      "cell_type": "code",
      "execution_count": null,
      "metadata": {},
      "outputs": [],
      "source": [
        "company_ind.loc[\"SpaceX\"]"
      ]
    },
    {
      "cell_type": "code",
      "execution_count": null,
      "metadata": {
        "id": "DWz8fpV5khDZ",
        "outputId": "b125e7cf-2723-4c92-f638-b315e71b1606"
      },
      "outputs": [],
      "source": [
        "company_ind2 = company.set_index(\"Continent\")  \n",
        "company_ind2"
      ]
    },
    {
      "cell_type": "code",
      "execution_count": null,
      "metadata": {
        "id": "lsgc0alikhDa",
        "outputId": "490068e6-74f8-4ec9-f0f7-acac8e2da85e"
      },
      "outputs": [],
      "source": [
        "company_ind2.loc[\"North America\"]"
      ]
    },
    {
      "cell_type": "code",
      "execution_count": null,
      "metadata": {
        "id": "qW9e7qOPkhDe"
      },
      "outputs": [],
      "source": [
        "continents = ['Asia', 'North America', 'Europe', 'Oceania', 'South America','Africa']"
      ]
    },
    {
      "cell_type": "code",
      "execution_count": null,
      "metadata": {
        "id": "RnnzKEc8khDf",
        "outputId": "45939282-9c4f-469e-e185-8cc35bae1697"
      },
      "outputs": [],
      "source": [
        "print(continents[1:3])\n",
        "print(continents[:3])\n",
        "print(continents[:])"
      ]
    },
    {
      "cell_type": "code",
      "execution_count": null,
      "metadata": {
        "id": "cELlbCiJkhDg",
        "outputId": "815577f3-71dd-4999-b072-e3e426bf795a"
      },
      "outputs": [],
      "source": [
        "company_srt = company_ind.sort_index() \n",
        "company_srt"
      ]
    },
    {
      "cell_type": "code",
      "execution_count": null,
      "metadata": {},
      "outputs": [],
      "source": [
        "company_srt['1047 Games':'56PINGTAI']['Valuation':'City']\n",
        "company_srt['1047 Games':'56PINGTAI','Valuation':'City']"
      ]
    },
    {
      "cell_type": "code",
      "execution_count": null,
      "metadata": {
        "id": "AHjEqVDGkhDg",
        "outputId": "36075d17-9b08-4c6e-bd1f-095c9c29789e",
        "scrolled": true
      },
      "outputs": [],
      "source": [
        "# company_srt.loc[\"1047 Games\":'56PINGTAI\t']['Date Joined']\n",
        "company_srt.loc[\"1047 Games\":'56PINGTAI\t','Industry':'Continent']"
      ]
    },
    {
      "cell_type": "code",
      "execution_count": null,
      "metadata": {
        "id": "0Td7B2xVkhDj",
        "outputId": "277aa90e-8043-4bbf-9405-9fb2b2cbc0e3"
      },
      "outputs": [],
      "source": [
        "company_srt.iloc[1:4,5:]"
      ]
    }
  ],
  "metadata": {
    "colab": {
      "name": "pandas3.ipynb",
      "provenance": []
    },
    "kernelspec": {
      "display_name": ".venv",
      "language": "python",
      "name": "python3"
    },
    "language_info": {
      "codemirror_mode": {
        "name": "ipython",
        "version": 3
      },
      "file_extension": ".py",
      "mimetype": "text/x-python",
      "name": "python",
      "nbconvert_exporter": "python",
      "pygments_lexer": "ipython3",
      "version": "3.12.2"
    }
  },
  "nbformat": 4,
  "nbformat_minor": 0
}
